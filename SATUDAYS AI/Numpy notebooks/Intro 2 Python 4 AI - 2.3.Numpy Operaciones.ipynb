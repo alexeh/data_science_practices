{
 "cells": [
  {
   "cell_type": "markdown",
   "metadata": {
    "id": "O5GhrY_PezIz"
   },
   "source": [
    "![](https://www.saturdays.ai/images/logo.png)"
   ]
  },
  {
   "cell_type": "markdown",
   "metadata": {
    "id": "M48G9oZs2td1"
   },
   "source": [
    "# Intro 2 Python  - Numpy\n"
   ]
  },
  {
   "cell_type": "code",
   "execution_count": null,
   "metadata": {
    "id": "_dsmh3tt2td1"
   },
   "outputs": [],
   "source": [
    "# Que nunca se nos olvide el import\n",
    "import numpy as np  "
   ]
  },
  {
   "cell_type": "markdown",
   "metadata": {
    "id": "C9yqSZJl2td1"
   },
   "source": [
    "### Operaciones aritméticas básicas\n",
    "\n",
    "Para arrays del mismo tamaño:\n",
    "\n",
    "* Suma `a + b`\n",
    "* Resta `a - b`\n",
    "* Multiplicación por elementos `a * b`\n",
    "* División `a / b`\n"
   ]
  },
  {
   "cell_type": "code",
   "execution_count": null,
   "metadata": {
    "id": "irWdlD5n2td1",
    "scrolled": true
   },
   "outputs": [],
   "source": [
    "a = np.array([6,1,9])\n",
    "b = np.full(3,2)"
   ]
  },
  {
   "cell_type": "code",
   "execution_count": null,
   "metadata": {
    "id": "6Pl6CKkb2td1",
    "outputId": "0eb57f51-e654-4b31-e5db-dba68aaf26b6"
   },
   "outputs": [
    {
     "data": {
      "text/plain": [
       "array([3. , 0.5, 4.5])"
      ]
     },
     "execution_count": 6,
     "metadata": {
      "tags": []
     },
     "output_type": "execute_result"
    }
   ],
   "source": [
    "a/b"
   ]
  },
  {
   "cell_type": "markdown",
   "metadata": {
    "id": "dbl3FIFa2td3"
   },
   "source": [
    "### Operaciones estadísticas y de vectores\n",
    "\n",
    "Estadísticas\n",
    "\n",
    "* Media `np.mean(a)`\n",
    "* Desviación estandar `np.std(a)`\n",
    "* Mediana `np.median(a)`\n",
    "\n",
    "Con vectores\n",
    "\n",
    "* Producto escalar `np.dot(a,b)`\n",
    "* Suma de elementos `a.sum()`\n",
    "* Sumar las filas  `a.sum(axis = 1)`\n",
    "* Sumar las columnas  `a.sum(axis = 0)`\n"
   ]
  },
  {
   "cell_type": "code",
   "execution_count": null,
   "metadata": {
    "id": "y7RHDBFG2td3"
   },
   "outputs": [],
   "source": [
    "mi_array = np.random.random((3,4))"
   ]
  },
  {
   "cell_type": "code",
   "execution_count": null,
   "metadata": {
    "id": "2LE9rEV72td3",
    "outputId": "be63575d-11bd-4107-9985-52a4b1773f34",
    "scrolled": true
   },
   "outputs": [
    {
     "data": {
      "text/plain": [
       "array([[0.75046524, 0.54176721, 0.71764824, 0.76971246],\n",
       "       [0.27275081, 0.51352685, 0.24379497, 0.06524855],\n",
       "       [0.01777266, 0.74252864, 0.21803877, 0.73694733]])"
      ]
     },
     "execution_count": 8,
     "metadata": {
      "tags": []
     },
     "output_type": "execute_result"
    }
   ],
   "source": [
    "mi_array"
   ]
  },
  {
   "cell_type": "code",
   "execution_count": null,
   "metadata": {
    "id": "BZBxV4XR2td3",
    "outputId": "b593ad4a-f71c-4fbe-80ff-17462558e966",
    "scrolled": true
   },
   "outputs": [
    {
     "data": {
      "text/plain": [
       "0.5276470328051627"
      ]
     },
     "execution_count": 11,
     "metadata": {
      "tags": []
     },
     "output_type": "execute_result"
    }
   ],
   "source": [
    "np.median(mi_array)"
   ]
  },
  {
   "cell_type": "code",
   "execution_count": null,
   "metadata": {
    "id": "FYKeyZAD2td3"
   },
   "outputs": [],
   "source": [
    "mi_array_2 = np.random.random((4,5))"
   ]
  },
  {
   "cell_type": "code",
   "execution_count": null,
   "metadata": {
    "id": "EQRSrba92td3",
    "outputId": "510303d8-d63a-4341-8deb-f881424bf1c6",
    "scrolled": false
   },
   "outputs": [
    {
     "data": {
      "text/plain": [
       "array([[0.85217918, 1.46535531, 1.37874094, 1.02637171, 0.85619185],\n",
       "       [0.36150996, 0.55129808, 0.42752325, 0.40321349, 0.27992164],\n",
       "       [0.23766385, 1.07933943, 0.6768332 , 0.48301879, 0.73177968]])"
      ]
     },
     "execution_count": 13,
     "metadata": {
      "tags": []
     },
     "output_type": "execute_result"
    }
   ],
   "source": [
    "np.dot(mi_array,mi_array_2)"
   ]
  },
  {
   "cell_type": "code",
   "execution_count": null,
   "metadata": {
    "id": "t-ODo7oz2td3",
    "outputId": "b33d79c7-0435-4942-c878-d7b349158319"
   },
   "outputs": [
    {
     "name": "stdout",
     "output_type": "stream",
     "text": [
      "[[0.85179073 0.38467588 0.74740579 0.42653358 0.19783548]\n",
      " [0.21338234 0.58665473 0.19415478 0.26796243 0.33470785]\n",
      " [0.06206048 0.39522672 0.34735739 0.55589093 0.0516962 ]\n",
      " [0.06859536 0.74729903 0.60200632 0.21068344 0.63567865]]\n"
     ]
    }
   ],
   "source": [
    "print(mi_array_2)"
   ]
  },
  {
   "cell_type": "code",
   "execution_count": null,
   "metadata": {
    "id": "LBGvrgLI2td4",
    "outputId": "356a9928-4a58-4f3b-c543-f883135eac6b"
   },
   "outputs": [
    {
     "data": {
      "text/plain": [
       "array([1.19582891, 2.11385636, 1.89092428, 1.46107039, 1.21991817])"
      ]
     },
     "execution_count": 16,
     "metadata": {
      "tags": []
     },
     "output_type": "execute_result"
    }
   ],
   "source": [
    "mi_array_2.sum(axis=0)"
   ]
  },
  {
   "cell_type": "markdown",
   "metadata": {
    "id": "gY9Etgxl2td4"
   },
   "source": [
    "### Broadcasting"
   ]
  },
  {
   "cell_type": "markdown",
   "metadata": {
    "id": "S8S2bHPp2td4"
   },
   "source": [
    "Permite operar con arrays de distintas dimensiones. Internamente, se ajustan los tamaños para operar\n"
   ]
  },
  {
   "cell_type": "code",
   "execution_count": null,
   "metadata": {
    "id": "B3XqXIyp2td4",
    "outputId": "4022e639-1ac0-4cb4-e8f5-8d8d4737d6b6"
   },
   "outputs": [
    {
     "name": "stdout",
     "output_type": "stream",
     "text": [
      "[[85.17907293 38.46758799 74.74057857 42.65335849 19.78354826]\n",
      " [21.33823408 58.66547304 19.41547754 26.79624274 33.47078482]\n",
      " [ 6.20604769 39.52267158 34.73573943 55.5890934   5.16961958]\n",
      " [ 6.85953626 74.72990333 60.20063226 21.06834436 63.56786474]]\n"
     ]
    }
   ],
   "source": [
    "print(mi_array_2 * 100)"
   ]
  },
  {
   "cell_type": "code",
   "execution_count": null,
   "metadata": {
    "id": "RGSuLPRx2td4",
    "outputId": "790842a2-f270-48b1-a029-bb93394b0f13"
   },
   "outputs": [
    {
     "data": {
      "text/plain": [
       "array([[85.17907293, 38.46758799, 74.74057857, 42.65335849, 19.78354826],\n",
       "       [21.33823408, 58.66547304, 19.41547754, 26.79624274, 33.47078482],\n",
       "       [ 6.20604769, 39.52267158, 34.73573943, 55.5890934 ,  5.16961958],\n",
       "       [ 6.85953626, 74.72990333, 60.20063226, 21.06834436, 63.56786474]])"
      ]
     },
     "execution_count": 18,
     "metadata": {
      "tags": []
     },
     "output_type": "execute_result"
    }
   ],
   "source": [
    "asdf = np.full((4,5),100)\n",
    "mi_array_2 * asdf"
   ]
  },
  {
   "cell_type": "markdown",
   "metadata": {
    "id": "LcLHUVSm2td4"
   },
   "source": [
    "La regla general es que cualquier dimensión que sea 1, se \"alarga\" para poder operar"
   ]
  },
  {
   "cell_type": "code",
   "execution_count": null,
   "metadata": {
    "id": "aWzthko32td4",
    "outputId": "2b4b7c28-ddfe-4e75-ab7a-98a96a49bf65"
   },
   "outputs": [
    {
     "data": {
      "text/plain": [
       "array([[1.70358146, 0.76935176, 1.49481157, 0.85306717, 0.39567097],\n",
       "       [0.42676468, 1.17330946, 0.38830955, 0.53592485, 0.6694157 ],\n",
       "       [0.12412095, 0.79045343, 0.69471479, 1.11178187, 0.10339239],\n",
       "       [0.13719073, 1.49459807, 1.20401265, 0.42136689, 1.27135729]])"
      ]
     },
     "execution_count": 20,
     "metadata": {
      "tags": []
     },
     "output_type": "execute_result"
    }
   ],
   "source": [
    "asdf = np.full((4,1),2)\n",
    "mi_array_2 * asdf"
   ]
  },
  {
   "cell_type": "code",
   "execution_count": null,
   "metadata": {
    "id": "ICVHxpcj2td4"
   },
   "outputs": [],
   "source": []
  }
 ],
 "metadata": {
  "colab": {
   "collapsed_sections": [],
   "name": "Intro 2 Python 4 AI - 2.3.Numpy Operaciones.ipynb",
   "provenance": []
  },
  "kernelspec": {
   "display_name": "Python 3 (ipykernel)",
   "language": "python",
   "name": "python3"
  },
  "language_info": {
   "codemirror_mode": {
    "name": "ipython",
    "version": 3
   },
   "file_extension": ".py",
   "mimetype": "text/x-python",
   "name": "python",
   "nbconvert_exporter": "python",
   "pygments_lexer": "ipython3",
   "version": "3.9.13"
  }
 },
 "nbformat": 4,
 "nbformat_minor": 1
}
