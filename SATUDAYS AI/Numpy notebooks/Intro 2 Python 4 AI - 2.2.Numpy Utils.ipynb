{
 "cells": [
  {
   "cell_type": "markdown",
   "metadata": {
    "id": "KxZTRMIZERip"
   },
   "source": [
    "# Intro 2 Python  - Numpy\n"
   ]
  },
  {
   "cell_type": "markdown",
   "metadata": {
    "id": "O5GhrY_PezIz"
   },
   "source": [
    "![](https://www.saturdays.ai/images/logo.png)"
   ]
  },
  {
   "cell_type": "code",
   "execution_count": null,
   "metadata": {
    "id": "olXXdzwcERip"
   },
   "outputs": [],
   "source": [
    "# Que nunca se nos olvide el import\n",
    "\n",
    "import numpy as np  "
   ]
  },
  {
   "cell_type": "markdown",
   "metadata": {
    "id": "mTWnQKgHERiq"
   },
   "source": [
    "### Arrays preparados dara usar\n",
    "\n",
    "* Array de ceros `np.zeros(shape)`\n",
    "* Array de ceros `np.zeros_like(array)`\n",
    "* Array de unos `np.ones(shape)`\n",
    "* Array de unos `np.ones_like(shape)`\n",
    "* Array lleno de un número `np.full(shape,numero)`\n",
    "* Array lleno de un número `np.full_like(array,numero)`\n",
    "* Matriz identidad `np.eye(numerofilas)`\n",
    "* Array de números aleatorios (uniforme) `np.random.random(size)`\n",
    "* Array de números aleatorios (distrib normal) `np.random.normal(centro,disp,size)`"
   ]
  },
  {
   "cell_type": "code",
   "execution_count": 1,
   "metadata": {
    "id": "cHsvGWySERiq",
    "outputId": "ae00aca3-f64f-408e-d607-4aeb71b8ef11",
    "scrolled": true
   },
   "outputs": [
    {
     "ename": "NameError",
     "evalue": "name 'np' is not defined",
     "output_type": "error",
     "traceback": [
      "\u001b[0;31m---------------------------------------------------------------------------\u001b[0m",
      "\u001b[0;31mNameError\u001b[0m                                 Traceback (most recent call last)",
      "\u001b[0;32m/var/folders/ts/91_w1yvx1173n9rnxj7vy7mm0000gp/T/ipykernel_16000/3024682984.py\u001b[0m in \u001b[0;36m<module>\u001b[0;34m\u001b[0m\n\u001b[0;32m----> 1\u001b[0;31m \u001b[0mmi_array\u001b[0m \u001b[0;34m=\u001b[0m \u001b[0mnp\u001b[0m\u001b[0;34m.\u001b[0m\u001b[0marray\u001b[0m\u001b[0;34m(\u001b[0m\u001b[0;34m[\u001b[0m\u001b[0;36m1\u001b[0m\u001b[0;34m,\u001b[0m\u001b[0;36m3\u001b[0m\u001b[0;34m,\u001b[0m\u001b[0;36m4\u001b[0m\u001b[0;34m,\u001b[0m\u001b[0;36m5\u001b[0m\u001b[0;34m,\u001b[0m\u001b[0;36m6\u001b[0m\u001b[0;34m]\u001b[0m\u001b[0;34m)\u001b[0m\u001b[0;34m\u001b[0m\u001b[0;34m\u001b[0m\u001b[0m\n\u001b[0m\u001b[1;32m      2\u001b[0m \u001b[0mnp\u001b[0m\u001b[0;34m.\u001b[0m\u001b[0mzeros_like\u001b[0m\u001b[0;34m(\u001b[0m\u001b[0mmi_array\u001b[0m\u001b[0;34m)\u001b[0m\u001b[0;34m\u001b[0m\u001b[0;34m\u001b[0m\u001b[0m\n\u001b[1;32m      3\u001b[0m \u001b[0mnp\u001b[0m\u001b[0;34m.\u001b[0m\u001b[0mzeros\u001b[0m\u001b[0;34m(\u001b[0m\u001b[0;34m(\u001b[0m\u001b[0;36m8\u001b[0m\u001b[0;34m,\u001b[0m\u001b[0;34m)\u001b[0m\u001b[0;34m)\u001b[0m\u001b[0;34m\u001b[0m\u001b[0;34m\u001b[0m\u001b[0m\n",
      "\u001b[0;31mNameError\u001b[0m: name 'np' is not defined"
     ]
    }
   ],
   "source": [
    "mi_array = np.array([1,3,4,5,6])\n",
    "np.zeros_like(mi_array)\n",
    "np.zeros((8,))"
   ]
  },
  {
   "cell_type": "code",
   "execution_count": null,
   "metadata": {
    "id": "m5A5Rb3XERir",
    "outputId": "b93bb955-b08c-453d-e190-7a3142c7a8b5"
   },
   "outputs": [
    {
     "data": {
      "text/plain": [
       "array([1., 1., 1., 1., 1., 1., 1., 1., 1., 1.])"
      ]
     },
     "execution_count": 62,
     "metadata": {
      "tags": []
     },
     "output_type": "execute_result"
    }
   ],
   "source": [
    "mi_array = np.array([1,3,4,5,6])\n",
    "np.ones_like(mi_array)\n",
    "np.ones((10,))"
   ]
  },
  {
   "cell_type": "code",
   "execution_count": null,
   "metadata": {
    "id": "zgTALiY2ERir",
    "outputId": "55d8028e-b689-4fbe-ca40-b770940951b7"
   },
   "outputs": [
    {
     "data": {
      "text/plain": [
       "array([[6, 6, 6, 6],\n",
       "       [6, 6, 6, 6],\n",
       "       [6, 6, 6, 6]])"
      ]
     },
     "execution_count": 63,
     "metadata": {
      "tags": []
     },
     "output_type": "execute_result"
    }
   ],
   "source": [
    "np.full((3,4),6)"
   ]
  },
  {
   "cell_type": "code",
   "execution_count": null,
   "metadata": {
    "id": "iLssKgqIERir",
    "outputId": "490f801e-e78e-4d0c-e8be-cd244156d275"
   },
   "outputs": [
    {
     "data": {
      "text/plain": [
       "array([[1., 0., 0.],\n",
       "       [0., 1., 0.],\n",
       "       [0., 0., 1.]])"
      ]
     },
     "execution_count": 68,
     "metadata": {
      "tags": []
     },
     "output_type": "execute_result"
    }
   ],
   "source": [
    "np.eye(3)"
   ]
  },
  {
   "cell_type": "code",
   "execution_count": null,
   "metadata": {
    "id": "bDMB3EulERir",
    "outputId": "e05f3394-d942-4feb-d5a6-ca7637993f1c",
    "scrolled": true
   },
   "outputs": [
    {
     "data": {
      "text/plain": [
       "array([[0.85933024, 0.16303665, 0.55085082, 0.52944364],\n",
       "       [0.06991723, 0.90352886, 0.15459016, 0.00117796],\n",
       "       [0.73197458, 0.99564912, 0.73041161, 0.57676683]])"
      ]
     },
     "execution_count": 69,
     "metadata": {
      "tags": []
     },
     "output_type": "execute_result"
    }
   ],
   "source": [
    "np.random.random((3,4))"
   ]
  },
  {
   "cell_type": "code",
   "execution_count": null,
   "metadata": {
    "id": "pNg7M226ERir",
    "outputId": "d4b1fd9d-ec66-4b08-b253-b3e3ef726147"
   },
   "outputs": [
    {
     "data": {
      "text/plain": [
       "array([[ 0.34234181,  0.97575768,  0.4689392 ,  0.13735295],\n",
       "       [ 0.08529486,  0.25068691, -0.92781867, -1.76064252],\n",
       "       [-1.11265544, -1.89096786, -0.12902122,  0.33010418]])"
      ]
     },
     "execution_count": 78,
     "metadata": {
      "tags": []
     },
     "output_type": "execute_result"
    }
   ],
   "source": [
    "np.random.normal(0,1,(3,4))"
   ]
  },
  {
   "cell_type": "markdown",
   "metadata": {
    "id": "R4Q_EPZvERis"
   },
   "source": [
    "### Acceso a través de índices\n"
   ]
  },
  {
   "cell_type": "markdown",
   "metadata": {
    "id": "dfBqQslTERis"
   },
   "source": [
    "Al igual que con las listas, se puede acceder a las distintas posiciones tanto individuales como a secciones"
   ]
  },
  {
   "cell_type": "code",
   "execution_count": null,
   "metadata": {
    "id": "IJW3jzR8ERis"
   },
   "outputs": [],
   "source": [
    "# elementos individuales"
   ]
  },
  {
   "cell_type": "code",
   "execution_count": null,
   "metadata": {
    "id": "LxSmND3UERis",
    "outputId": "4c430642-af3b-4dd2-89e3-06ce62411682"
   },
   "outputs": [
    {
     "name": "stdout",
     "output_type": "stream",
     "text": [
      "[[ 0  1  2  3  4]\n",
      " [ 5  6  7  8  9]\n",
      " [10 11 12 13 14]]\n",
      "(3, 5)\n"
     ]
    }
   ],
   "source": [
    "mi_array = np.array([[0,1,2,3,4],[5,6,7,8,9],[10,11,12,13,14]])\n",
    "print(mi_array)\n",
    "print(mi_array.shape)"
   ]
  },
  {
   "cell_type": "code",
   "execution_count": null,
   "metadata": {
    "id": "QE6PnXWNERis",
    "outputId": "81e16ab3-9e01-4b77-ffcc-b1732c40bb11"
   },
   "outputs": [
    {
     "data": {
      "text/plain": [
       "5"
      ]
     },
     "execution_count": 82,
     "metadata": {
      "tags": []
     },
     "output_type": "execute_result"
    }
   ],
   "source": [
    "mi_array[1,0]"
   ]
  },
  {
   "cell_type": "code",
   "execution_count": null,
   "metadata": {
    "id": "C81a5db8ERis",
    "outputId": "8dae2d8d-4582-4528-a30d-e65d21977ba4"
   },
   "outputs": [
    {
     "data": {
      "text/plain": [
       "array([0, 1, 2, 3, 4])"
      ]
     },
     "execution_count": 84,
     "metadata": {
      "tags": []
     },
     "output_type": "execute_result"
    }
   ],
   "source": [
    "mi_array[0,:]"
   ]
  },
  {
   "cell_type": "code",
   "execution_count": null,
   "metadata": {
    "id": "Vm7O5R1CERis",
    "outputId": "4748e5f8-4b76-4eb5-ba56-20b11e3f1e1f"
   },
   "outputs": [
    {
     "data": {
      "text/plain": [
       "array([10, 11, 12, 13, 14])"
      ]
     },
     "execution_count": 85,
     "metadata": {
      "tags": []
     },
     "output_type": "execute_result"
    }
   ],
   "source": [
    "mi_array[-1,:]"
   ]
  },
  {
   "cell_type": "code",
   "execution_count": null,
   "metadata": {
    "id": "Ga0ZdYVWERis",
    "outputId": "64dc6960-0be0-4333-9e26-2b8268755868"
   },
   "outputs": [
    {
     "data": {
      "text/plain": [
       "array([[ 2,  3,  4],\n",
       "       [ 7,  8,  9],\n",
       "       [12, 13, 14]])"
      ]
     },
     "execution_count": 86,
     "metadata": {
      "tags": []
     },
     "output_type": "execute_result"
    }
   ],
   "source": [
    "mi_array[:3,2:]"
   ]
  },
  {
   "cell_type": "code",
   "execution_count": null,
   "metadata": {
    "id": "J7IiAZ0NERis",
    "outputId": "32b9776d-f16f-4981-810c-9db9da4f6154"
   },
   "outputs": [
    {
     "data": {
      "text/plain": [
       "array([ 1,  6, 11])"
      ]
     },
     "execution_count": 87,
     "metadata": {
      "tags": []
     },
     "output_type": "execute_result"
    }
   ],
   "source": [
    "mi_array[:,1]"
   ]
  },
  {
   "cell_type": "code",
   "execution_count": null,
   "metadata": {
    "id": "ZQRb01J2ERis"
   },
   "outputs": [],
   "source": []
  }
 ],
 "metadata": {
  "colab": {
   "collapsed_sections": [],
   "name": "Intro 2 Python 4 AI - 2.2.Numpy Utils.ipynb",
   "provenance": []
  },
  "kernelspec": {
   "display_name": "Python 3 (ipykernel)",
   "language": "python",
   "name": "python3"
  },
  "language_info": {
   "codemirror_mode": {
    "name": "ipython",
    "version": 3
   },
   "file_extension": ".py",
   "mimetype": "text/x-python",
   "name": "python",
   "nbconvert_exporter": "python",
   "pygments_lexer": "ipython3",
   "version": "3.9.13"
  }
 },
 "nbformat": 4,
 "nbformat_minor": 1
}
