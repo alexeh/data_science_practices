{
 "cells": [
  {
   "cell_type": "code",
   "execution_count": 10,
   "metadata": {
    "colab": {
     "base_uri": "https://localhost:8080/"
    },
    "id": "Ea_jJzZmFJHI",
    "outputId": "58d53a68-6c4f-40dd-a6a5-d860bd121eb0"
   },
   "outputs": [
    {
     "data": {
      "text/plain": [
       "2401"
      ]
     },
     "execution_count": 10,
     "metadata": {},
     "output_type": "execute_result"
    }
   ],
   "source": [
    "\n",
    "7**4"
   ]
  },
  {
   "cell_type": "code",
   "execution_count": 6,
   "metadata": {
    "colab": {
     "base_uri": "https://localhost:8080/"
    },
    "id": "_7Wj833lFx2k",
    "outputId": "71517ba6-0385-4450-f2c0-41ef9dd7161d"
   },
   "outputs": [
    {
     "data": {
      "text/plain": [
       "['Hi', 'there', 'Sam!']"
      ]
     },
     "execution_count": 6,
     "metadata": {},
     "output_type": "execute_result"
    }
   ],
   "source": [
    "s= 'Hi there Sam!'\n",
    "s.split()"
   ]
  },
  {
   "cell_type": "code",
   "execution_count": 7,
   "metadata": {
    "colab": {
     "base_uri": "https://localhost:8080/"
    },
    "id": "5J1IfC6dHIUD",
    "outputId": "95fa2759-0b88-4d1b-c120-2edef5b94cdb"
   },
   "outputs": [
    {
     "name": "stdout",
     "output_type": "stream",
     "text": [
      "The diameter of Earth is 12742 kilometers.\n"
     ]
    }
   ],
   "source": [
    "planet = \"Earth\"\n",
    "diameter = 12742\n",
    "print('The diameter of {} is {} kilometers.'.format(planet,diameter))"
   ]
  },
  {
   "cell_type": "code",
   "execution_count": null,
   "metadata": {
    "id": "jUda6njIHlEz"
   },
   "outputs": [],
   "source": [
    "lst = [1,2,[3,4],[5,[100,200,['hello']],23,11],1,7]\n",
    "print(lst[8])"
   ]
  },
  {
   "cell_type": "code",
   "execution_count": 18,
   "metadata": {
    "id": "9bWrBUizIQ4f"
   },
   "outputs": [],
   "source": [
    "d = {'k1':[1,2,3,{'tricky':['oh','man','inception',{'target':[1,2,3,'hello']}]}]}"
   ]
  },
  {
   "cell_type": "code",
   "execution_count": 17,
   "metadata": {
    "id": "VmagcsvYIlCA"
   },
   "outputs": [],
   "source": [
    "#la diferencia entre tupla y lista es que la tupla es inmutable"
   ]
  },
  {
   "cell_type": "code",
   "execution_count": 20,
   "metadata": {
    "colab": {
     "base_uri": "https://localhost:8080/"
    },
    "id": "TBrmZHsII-Y7",
    "outputId": "7bc3ca2f-a3c3-4c64-d66f-284d583fac52"
   },
   "outputs": [
    {
     "name": "stdout",
     "output_type": "stream",
     "text": [
      "user@domain.com\n"
     ]
    }
   ],
   "source": [
    "def domainGet(lista):\n",
    "    lista.split('@')\n",
    "    return lista\n",
    "\n",
    "\n",
    "lista='user@domain.com'\n",
    "s2=domainGet(lista)\n",
    "print(domainGet(s2))"
   ]
  },
  {
   "cell_type": "code",
   "execution_count": null,
   "metadata": {
    "id": "P97UNhKnMCTF"
   },
   "outputs": [],
   "source": [
    "def findDog():\n",
    "  s.split()\n",
    "  print(s)\n",
    "  \n",
    "  return\n",
    "\n",
    "\n",
    "s='Is there a dog here?'\n",
    "s2=findDog(s)\n",
    "print(s2)"
   ]
  },
  {
   "cell_type": "code",
   "execution_count": null,
   "metadata": {
    "id": "XmHNaW4DPxq4"
   },
   "outputs": [],
   "source": []
  },
  {
   "cell_type": "code",
   "execution_count": 22,
   "metadata": {
    "colab": {
     "base_uri": "https://localhost:8080/"
    },
    "id": "kAC7li6iPyMr",
    "outputId": "75433735-3ab7-43ed-ec64-33b80e645e42"
   },
   "outputs": [
    {
     "name": "stdout",
     "output_type": "stream",
     "text": [
      "Small Ticket\n"
     ]
    }
   ],
   "source": [
    "def caught_speeding(speed, is_birthday):\n",
    "    if (speed<=60 and is_birthday!=True) or (speed<=65 and is_birthday==True):\n",
    "      x='No Ticket'\n",
    "    elif (60<speed<=80 and is_birthday!=True) or (65<speed<=85 and is_birthday==True):\n",
    "      x='Small Ticket'\n",
    "    else:\n",
    "      x='Big Ticket'\n",
    "\n",
    "    return x\n",
    "\n",
    "x=caught_speeding(81, True)\n",
    "print(x)"
   ]
  }
 ],
 "metadata": {
  "colab": {
   "provenance": []
  },
  "kernelspec": {
   "display_name": "Python 3 (ipykernel)",
   "language": "python",
   "name": "python3"
  },
  "language_info": {
   "codemirror_mode": {
    "name": "ipython",
    "version": 3
   },
   "file_extension": ".py",
   "mimetype": "text/x-python",
   "name": "python",
   "nbconvert_exporter": "python",
   "pygments_lexer": "ipython3",
   "version": "3.9.13"
  }
 },
 "nbformat": 4,
 "nbformat_minor": 1
}
