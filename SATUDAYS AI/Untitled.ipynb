{
 "cells": [
  {
   "cell_type": "code",
   "execution_count": 1,
   "id": "5f397275",
   "metadata": {},
   "outputs": [
    {
     "name": "stdout",
     "output_type": "stream",
     "text": [
      "x is positive\n"
     ]
    }
   ],
   "source": [
    "x = 5\n",
    "\n",
    "if x == 0:\n",
    "    print(\"x is zero\")\n",
    "elif x > 0:\n",
    "    print(\"x is positive\")\n",
    "elif x < 0:\n",
    "    print(\"x is negative\")\n",
    "else:\n",
    "    print(\"x is not a number\")"
   ]
  },
  {
   "cell_type": "code",
   "execution_count": 3,
   "id": "d5375df8",
   "metadata": {},
   "outputs": [
    {
     "name": "stdout",
     "output_type": "stream",
     "text": [
      "x is positive\n",
      "x is not a number\n"
     ]
    }
   ],
   "source": [
    "y = 5\n",
    "\n",
    "if y == 0:\n",
    "    print(\"x is zero\")\n",
    "if y > 0:\n",
    "    print(\"x is positive\")\n",
    "if y < 0:\n",
    "    print(\"x is negative\")\n",
    "else:\n",
    "    print(\"x is not a number\")"
   ]
  },
  {
   "cell_type": "code",
   "execution_count": null,
   "id": "fc53ffb1",
   "metadata": {},
   "outputs": [],
   "source": []
  }
 ],
 "metadata": {
  "kernelspec": {
   "display_name": "Python 3 (ipykernel)",
   "language": "python",
   "name": "python3"
  },
  "language_info": {
   "codemirror_mode": {
    "name": "ipython",
    "version": 3
   },
   "file_extension": ".py",
   "mimetype": "text/x-python",
   "name": "python",
   "nbconvert_exporter": "python",
   "pygments_lexer": "ipython3",
   "version": "3.9.13"
  }
 },
 "nbformat": 4,
 "nbformat_minor": 5
}
