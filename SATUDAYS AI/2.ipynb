{
  "nbformat": 4,
  "nbformat_minor": 0,
  "metadata": {
    "kernelspec": {
      "display_name": "Python 3",
      "language": "python",
      "name": "python3"
    },
    "language_info": {
      "codemirror_mode": {
        "name": "ipython",
        "version": 3
      },
      "file_extension": ".py",
      "mimetype": "text/x-python",
      "name": "python",
      "nbconvert_exporter": "python",
      "pygments_lexer": "ipython3",
      "version": "3.6.2"
    },
    "colab": {
      "name": "Copy of Módulo 2 Python Exercises.ipynb",
      "provenance": [],
      "collapsed_sections": []
    }
  },
  "cells": [
    {
      "cell_type": "markdown",
      "metadata": {
        "id": "3FuSWeVgK0dD"
      },
      "source": [
        "\n",
        "# Ejercicios sobre Python\n"
      ]
    },
    {
      "cell_type": "markdown",
      "metadata": {
        "id": "O5GhrY_PezIz"
      },
      "source": [
        "![](https://www.saturdays.ai/images/logo.png)"
      ]
    },
    {
      "cell_type": "markdown",
      "metadata": {
        "id": "UVjfgpi2K0dD"
      },
      "source": [
        "## Exercises\n",
        "\n",
        "Answer the questions or complete the tasks outlined in bold below, use the specific method described if applicable."
      ]
    },
    {
      "cell_type": "markdown",
      "metadata": {
        "id": "QyuddSjLK0dE"
      },
      "source": [
        "# ** What is 7 to the power of 4?**"
      ]
    },
    {
      "cell_type": "code",
      "metadata": {
        "id": "QICnfFkIK0dE",
        "colab": {
          "base_uri": "https://localhost:8080/"
        },
        "outputId": "26884cd8-7dd6-452d-97ae-04a556350bcc"
      },
      "source": [
        "print(7**4)"
      ],
      "execution_count": 7,
      "outputs": [
        {
          "output_type": "stream",
          "text": [
            "2401\n"
          ],
          "name": "stdout"
        }
      ]
    },
    {
      "cell_type": "markdown",
      "metadata": {
        "id": "r1SN6dUOK0dE"
      },
      "source": [
        "** Split this string:**\n",
        "\n",
        "    s = \"Hi there Sam!\"\n",
        "    \n",
        "**into a list. **"
      ]
    },
    {
      "cell_type": "code",
      "metadata": {
        "id": "kJKIyUo6K0dE"
      },
      "source": [
        "s = \"Hi there Sam!\"\n",
        "lstw = [i for i in s.split(' ')]"
      ],
      "execution_count": 8,
      "outputs": []
    },
    {
      "cell_type": "code",
      "metadata": {
        "id": "TQ4s3FXXK0dE",
        "colab": {
          "base_uri": "https://localhost:8080/"
        },
        "outputId": "412e1262-c6ab-42e4-e9d1-6250c6c24f26"
      },
      "source": [
        "print(lstw)"
      ],
      "execution_count": 9,
      "outputs": [
        {
          "output_type": "stream",
          "text": [
            "['Hi', 'there', 'Sam!']\n"
          ],
          "name": "stdout"
        }
      ]
    },
    {
      "cell_type": "markdown",
      "metadata": {
        "id": "0ejXX4xyK0dF"
      },
      "source": [
        "** Given the variables:**\n",
        "\n",
        "    planet = \"Earth\"\n",
        "    diameter = 12742\n",
        "\n",
        "** Use .format() to print the following string: **\n",
        "\n",
        "    The diameter of Earth is 12742 kilometers."
      ]
    },
    {
      "cell_type": "code",
      "metadata": {
        "id": "ry2_tmgCK0dF"
      },
      "source": [
        "planet = \"Earth\"\n",
        "diameter = 12742"
      ],
      "execution_count": 10,
      "outputs": []
    },
    {
      "cell_type": "code",
      "metadata": {
        "id": "JhP_o1urK0dF",
        "colab": {
          "base_uri": "https://localhost:8080/"
        },
        "outputId": "e3643988-21f2-43a5-d03c-d4e50d2fce96"
      },
      "source": [
        "print(f'The diameter of {planet} is {diameter} kilometers.')"
      ],
      "execution_count": 11,
      "outputs": [
        {
          "output_type": "stream",
          "text": [
            "The diameter of Earth is 12742 kilometers.\n"
          ],
          "name": "stdout"
        }
      ]
    },
    {
      "cell_type": "markdown",
      "metadata": {
        "id": "EJHDjmGWK0dG"
      },
      "source": [
        "** Given this nested list, use indexing to grab the word \"hello\" **"
      ]
    },
    {
      "cell_type": "code",
      "metadata": {
        "id": "KZxMv2dTK0dG"
      },
      "source": [
        "lst = [1,2,[3,4],[5,[100,200,['hello']],23,11],1,7]"
      ],
      "execution_count": 12,
      "outputs": []
    },
    {
      "cell_type": "code",
      "metadata": {
        "id": "-Pj-KIKwK0dG",
        "colab": {
          "base_uri": "https://localhost:8080/"
        },
        "outputId": "bb8d9a76-67f2-4ac0-b5c0-40e05acde645"
      },
      "source": [
        "print(lst[3][1][2][0])"
      ],
      "execution_count": 13,
      "outputs": [
        {
          "output_type": "stream",
          "text": [
            "hello\n"
          ],
          "name": "stdout"
        }
      ]
    },
    {
      "cell_type": "markdown",
      "metadata": {
        "id": "plvCogsaK0dG"
      },
      "source": [
        "** Given this nested dictionary grab the word \"hello\". Be prepared, this will be annoying/tricky **"
      ]
    },
    {
      "cell_type": "code",
      "metadata": {
        "id": "mS5UKlCeK0dG"
      },
      "source": [
        "d = {'k1':[1,2,3,{'tricky':['oh','man','inception',{'target':[1,2,3,'hello']}]}]}"
      ],
      "execution_count": 14,
      "outputs": []
    },
    {
      "cell_type": "code",
      "metadata": {
        "id": "PB8_gt6BK0dG",
        "colab": {
          "base_uri": "https://localhost:8080/"
        },
        "outputId": "f72cbf34-1f03-4ee7-aa58-f2abd0c7d8eb"
      },
      "source": [
        "print(d['k1'][3]['tricky'][3]['target'][3])"
      ],
      "execution_count": 15,
      "outputs": [
        {
          "output_type": "stream",
          "text": [
            "hello\n"
          ],
          "name": "stdout"
        }
      ]
    },
    {
      "cell_type": "markdown",
      "metadata": {
        "id": "3_v7bX0yK0dG"
      },
      "source": [
        "** What is the main difference between a tuple and a list? **"
      ]
    },
    {
      "cell_type": "code",
      "metadata": {
        "id": "djNB6RVCK0dG"
      },
      "source": [
        "# Tuple is immutable"
      ],
      "execution_count": 16,
      "outputs": []
    },
    {
      "cell_type": "markdown",
      "metadata": {
        "id": "pEK8-YM7K0dG"
      },
      "source": [
        "** Create a function that grabs the email website domain from a string in the form: **\n",
        "\n",
        "    user@domain.com\n",
        "    \n",
        "**So for example, passing \"user@domain.com\" would return: domain.com**"
      ]
    },
    {
      "cell_type": "code",
      "metadata": {
        "id": "ub6aR_WMK0dG"
      },
      "source": [
        "def domainGet(domain):\n",
        "  print(domain.split('@')[1])"
      ],
      "execution_count": 17,
      "outputs": []
    },
    {
      "cell_type": "code",
      "metadata": {
        "id": "Xk_1jIgdK0dG",
        "colab": {
          "base_uri": "https://localhost:8080/"
        },
        "outputId": "20b021a7-229a-4491-dc94-b5598dbb9b14"
      },
      "source": [
        "domainGet('user@domain.com')"
      ],
      "execution_count": 18,
      "outputs": [
        {
          "output_type": "stream",
          "text": [
            "domain.com\n"
          ],
          "name": "stdout"
        }
      ]
    },
    {
      "cell_type": "markdown",
      "metadata": {
        "id": "082YlyGkK0dG"
      },
      "source": [
        "** Create a basic function that returns True if the word 'dog' is contained in the input string. Don't worry about edge cases like a punctuation being attached to the word dog, but do account for capitalization. **"
      ]
    },
    {
      "cell_type": "code",
      "metadata": {
        "id": "KTiZmXy0K0dG"
      },
      "source": [
        "def findDog(words):\n",
        "  print('dog' in words.lower())"
      ],
      "execution_count": 19,
      "outputs": []
    },
    {
      "cell_type": "code",
      "metadata": {
        "id": "GuFwqbwDK0dG",
        "colab": {
          "base_uri": "https://localhost:8080/"
        },
        "outputId": "19867801-40d2-47c2-eb73-ee7ed8eb2082"
      },
      "source": [
        "findDog('Is there a dog here?')"
      ],
      "execution_count": 20,
      "outputs": [
        {
          "output_type": "stream",
          "text": [
            "True\n"
          ],
          "name": "stdout"
        }
      ]
    },
    {
      "cell_type": "markdown",
      "metadata": {
        "id": "WHqaqY_hK0dG"
      },
      "source": [
        "** Create a function that counts the number of times the word \"dog\" occurs in a string. Again ignore edge cases. **"
      ]
    },
    {
      "cell_type": "code",
      "metadata": {
        "id": "K7Dooe4GK0dH"
      },
      "source": [
        "def countDog(words):\n",
        "  print(words.lower().count('dog'))"
      ],
      "execution_count": 21,
      "outputs": []
    },
    {
      "cell_type": "code",
      "metadata": {
        "id": "A6htU2KdK0dH",
        "colab": {
          "base_uri": "https://localhost:8080/"
        },
        "outputId": "00ae6506-7fe3-4d97-a266-825400a8f268"
      },
      "source": [
        "countDog('This dog runs faster than the other dog dude!')"
      ],
      "execution_count": 22,
      "outputs": [
        {
          "output_type": "stream",
          "text": [
            "2\n"
          ],
          "name": "stdout"
        }
      ]
    },
    {
      "cell_type": "markdown",
      "metadata": {
        "id": "xNLgs8rDK0dH"
      },
      "source": [
        "** Use lambda expressions and the filter() function to filter out words from a list that don't start with the letter 's'. For example:**\n",
        "\n",
        "    seq = ['soup','dog','salad','cat','great']\n",
        "\n",
        "**should be filtered down to:**\n",
        "\n",
        "    ['soup','salad']"
      ]
    },
    {
      "cell_type": "code",
      "metadata": {
        "id": "iLCfh_pFK0dH"
      },
      "source": [
        "seq = ['soup','dog','salad','cat','great']"
      ],
      "execution_count": 23,
      "outputs": []
    },
    {
      "cell_type": "code",
      "metadata": {
        "id": "7Y38AW4SK0dH",
        "colab": {
          "base_uri": "https://localhost:8080/"
        },
        "outputId": "5f250867-eb75-40a2-e53e-fb3b05f044bc"
      },
      "source": [
        "result = filter(lambda x: 's' == x[0], seq)\n",
        "print(list(result))"
      ],
      "execution_count": 24,
      "outputs": [
        {
          "output_type": "stream",
          "text": [
            "['soup', 'salad']\n"
          ],
          "name": "stdout"
        }
      ]
    },
    {
      "cell_type": "markdown",
      "metadata": {
        "id": "8VHhrxbOK0dH"
      },
      "source": [
        "### Final Problem\n",
        "**You are driving a little too fast, and a police officer stops you. Write a function\n",
        "  to return one of 3 possible results: \"No ticket\", \"Small ticket\", or \"Big Ticket\". \n",
        "  If your speed is 60 or less, the result is \"No Ticket\". If speed is between 61 \n",
        "  and 80 inclusive, the result is \"Small Ticket\". If speed is 81 or more, the result is \"Big    Ticket\". Unless it is your birthday (encoded as a boolean value in the parameters of the function) -- on your birthday, your speed can be 5 higher in all \n",
        "  cases. **"
      ]
    },
    {
      "cell_type": "code",
      "metadata": {
        "id": "0EeTQCgDK0dH"
      },
      "source": [
        "def caught_speeding(speed, is_birthday):\n",
        "   if is_birthday:\n",
        "     speed -= 5\n",
        "   if speed <=60:\n",
        "     print('No ticket')\n",
        "   elif speed >=61 and speed <=80:\n",
        "     print('Small Ticket')\n",
        "   else:\n",
        "     print('Big Ticket')    "
      ],
      "execution_count": 25,
      "outputs": []
    },
    {
      "cell_type": "code",
      "metadata": {
        "id": "tSxKvpf0K0dH",
        "colab": {
          "base_uri": "https://localhost:8080/"
        },
        "outputId": "2b2c072a-542a-479c-d6a8-b3611505e844"
      },
      "source": [
        "caught_speeding(81,True)"
      ],
      "execution_count": 26,
      "outputs": [
        {
          "output_type": "stream",
          "text": [
            "Small Ticket\n"
          ],
          "name": "stdout"
        }
      ]
    },
    {
      "cell_type": "code",
      "metadata": {
        "id": "sUmFoMVzK0dH",
        "colab": {
          "base_uri": "https://localhost:8080/"
        },
        "outputId": "57b81670-22c2-41b2-f1f6-30a9975136da"
      },
      "source": [
        "caught_speeding(81,False)"
      ],
      "execution_count": 27,
      "outputs": [
        {
          "output_type": "stream",
          "text": [
            "Big Ticket\n"
          ],
          "name": "stdout"
        }
      ]
    },
    {
      "cell_type": "markdown",
      "metadata": {
        "id": "9_p4hQudK0dH"
      },
      "source": [
        "# Great job!"
      ]
    }
  ]
}